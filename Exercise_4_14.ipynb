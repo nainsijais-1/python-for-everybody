{
  "nbformat": 4,
  "nbformat_minor": 0,
  "metadata": {
    "colab": {
      "name": "Exercise 4.14.ipynb",
      "provenance": [],
      "collapsed_sections": []
    },
    "kernelspec": {
      "name": "python3",
      "display_name": "Python 3"
    },
    "language_info": {
      "name": "python"
    }
  },
  "cells": [
    {
      "cell_type": "markdown",
      "source": [
        "**Functions**"
      ],
      "metadata": {
        "id": "eHVYLv_YjyAo"
      }
    },
    {
      "cell_type": "markdown",
      "source": [
        "**Ques 1.** \n",
        "Rewrite your pay computation with time-and-a-half for overtime and create a function called computepay which takes two parameters\n",
        "(hours and rate)."
      ],
      "metadata": {
        "id": "Vkrs6cVKj18C"
      }
    },
    {
      "cell_type": "code",
      "source": [
        "def computepay(hours , rate):\n",
        "  hours = input(\"enter hours:\")\n",
        "  rate = input(\"enter rate:\")\n",
        "  h=int(hours)\n",
        "  r=float(rate)\n",
        "  if h > 40:\n",
        "    print (\"pay\" , ((40*r) + (h-40)*1.5*r))\n",
        "  else :\n",
        "    print (\"pay\" , h*r)\n",
        "    \n",
        "computepay(45,10)\n"
      ],
      "metadata": {
        "colab": {
          "base_uri": "https://localhost:8080/"
        },
        "id": "NUuAV5Htfian",
        "outputId": "1302c47e-c708-4065-b7f0-a8b7da42ebc8"
      },
      "execution_count": null,
      "outputs": [
        {
          "output_type": "stream",
          "name": "stdout",
          "text": [
            "enter hours:45\n",
            "enter rate:10\n",
            "pay 475.0\n"
          ]
        }
      ]
    },
    {
      "cell_type": "markdown",
      "source": [
        "**Ques 2.**\n",
        "Rewrite the grade program from the previous chapter using\n",
        "a function called computegrade that takes a score as its parameter and\n",
        "returns a grade as a string."
      ],
      "metadata": {
        "id": "AYg11XeikBz7"
      }
    },
    {
      "cell_type": "code",
      "source": [
        "def computegrade(score):\n",
        "  marks = input(\"enter score :\")\n",
        "  try:\n",
        "    score = float(marks)\n",
        "    if(1 >score >0):\n",
        "      if (score >= 0.9):\n",
        "        print(\"A\")\n",
        "      elif (0.9 > score >= 0.8):\n",
        "        print(\"B\")\n",
        "      elif (0.8 > score >= 0.7):\n",
        "        print(\"C\")\n",
        "      elif (0.7 > score >= 0.6):\n",
        "        print(\"D\")\n",
        "      else:\n",
        "        print(\"E\")\n",
        "    else :\n",
        "      print(\"Bad Score\")\n",
        "  except:\n",
        "    print(\"Please , Enter numeric value\")\n",
        "    return (\"grade\")\n",
        "computegrade(0.6)"
      ],
      "metadata": {
        "colab": {
          "base_uri": "https://localhost:8080/"
        },
        "id": "gCEpIDnxkNO7",
        "outputId": "85166ca4-ccf7-4101-fc2a-932a0ad04f50"
      },
      "execution_count": null,
      "outputs": [
        {
          "output_type": "stream",
          "name": "stdout",
          "text": [
            "enter score :0.6\n",
            "D\n"
          ]
        }
      ]
    }
  ]
}