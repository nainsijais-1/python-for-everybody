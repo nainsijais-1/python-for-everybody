{
  "nbformat": 4,
  "nbformat_minor": 0,
  "metadata": {
    "colab": {
      "name": "Exercise 5.9.ipynb",
      "provenance": [],
      "collapsed_sections": []
    },
    "kernelspec": {
      "name": "python3",
      "display_name": "Python 3"
    },
    "language_info": {
      "name": "python"
    }
  },
  "cells": [
    {
      "cell_type": "markdown",
      "source": [
        "**Ques 1.**\n",
        "Write a program which repeatedly reads numbers until the\n",
        "user enters “done”. Once “done” is entered, print out the total, count,\n",
        "and average of the numbers. If the user enters anything other than a\n",
        "number, detect their mistake using try and except and print an error\n",
        "message and skip to the next number."
      ],
      "metadata": {
        "id": "Q3v2dV9SBPg8"
      }
    },
    {
      "cell_type": "code",
      "source": [
        "total =0\n",
        "count =0\n",
        "while True:\n",
        "  x =input(\"enter value:\")\n",
        "  if x == (\"done\"):\n",
        "    break\n",
        "  try:\n",
        "    value = float(x)\n",
        "  except:\n",
        "    print(\"invalid input\")\n",
        "    continue\n",
        "  total = total + value\n",
        "  count = count + 1\n",
        "print(total,count,total/count)\n",
        "\n",
        "  "
      ],
      "metadata": {
        "colab": {
          "base_uri": "https://localhost:8080/"
        },
        "id": "xRau3J2nBao2",
        "outputId": "e84a3c47-008e-4c04-ebdb-e2982629c5f0"
      },
      "execution_count": null,
      "outputs": [
        {
          "output_type": "stream",
          "name": "stdout",
          "text": [
            "enter value:4\n",
            "enter value:5\n",
            "enter value:bad data\n",
            "invalid input\n",
            "enter value:7\n",
            "enter value:done\n",
            "16.0 3 5.333333333333333\n"
          ]
        }
      ]
    },
    {
      "cell_type": "markdown",
      "source": [
        "**Ques.2**\n",
        "Write another program that prompts for a list of numbers\n",
        "as above and at the end prints out both the maximum and minimum of\n",
        "the numbers instead of the average."
      ],
      "metadata": {
        "id": "m2LLMEOUrx1Q"
      }
    },
    {
      "cell_type": "code",
      "source": [
        "total =0\n",
        "count =0\n",
        "large = None\n",
        "small = None\n",
        "\n",
        "while True:\n",
        "  x =input(\"enter value:\")\n",
        "  if x == (\"done\"):\n",
        "    break\n",
        "  try:\n",
        "    value = float(x)\n",
        "  except:\n",
        "    print(\"invalid input\")\n",
        "    continue\n",
        "  total = total + value\n",
        "  count = count + 1\n",
        "print(total,count)"
      ],
      "metadata": {
        "id": "FyE5QQmhsCN1"
      },
      "execution_count": null,
      "outputs": []
    },
    {
      "cell_type": "code",
      "source": [
        "x=[4,7,8,2]"
      ],
      "metadata": {
        "id": "Zapu5PNmySEv"
      },
      "execution_count": null,
      "outputs": []
    }
  ]
}