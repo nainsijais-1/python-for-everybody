{
  "nbformat": 4,
  "nbformat_minor": 0,
  "metadata": {
    "colab": {
      "name": "Exercise 2.15.ipynb",
      "provenance": [],
      "collapsed_sections": []
    },
    "kernelspec": {
      "name": "python3",
      "display_name": "Python 3"
    },
    "language_info": {
      "name": "python"
    }
  },
  "cells": [
    {
      "cell_type": "markdown",
      "source": [
        " **Variables, expressions, and\n",
        "statements**\n"
      ],
      "metadata": {
        "id": "wDys7sVWpP0Y"
      }
    },
    {
      "cell_type": "markdown",
      "source": [
        "**Ques 1.** \n",
        "Write a program that uses input to prompt a user for their\n",
        "name and then welcomes them."
      ],
      "metadata": {
        "id": "EXvNjrfNiU7a"
      }
    },
    {
      "cell_type": "code",
      "source": [
        "name = input (\"Enter your name:\")\n",
        "print(\"hello\", name)"
      ],
      "metadata": {
        "colab": {
          "base_uri": "https://localhost:8080/"
        },
        "id": "rVXck-LjiiQ-",
        "outputId": "79bebfb3-6725-4afd-d908-f8d6d02dd4c0"
      },
      "execution_count": null,
      "outputs": [
        {
          "output_type": "stream",
          "name": "stdout",
          "text": [
            "Enter your name:chunk\n",
            "hello chunk\n"
          ]
        }
      ]
    },
    {
      "cell_type": "markdown",
      "source": [
        "**Ques 2.**\n",
        "Write a program to prompt the user for hours and rate per\n",
        "hour to compute gross pay."
      ],
      "metadata": {
        "id": "5LjQsnR6i9ds"
      }
    },
    {
      "cell_type": "code",
      "source": [
        "hours= input(\"Enter hours:\")\n",
        "rate= input(\"Enter rate:\")\n",
        "h=int(hours)\n",
        "r=float(rate)\n",
        "print(\"Pay\", h*r)"
      ],
      "metadata": {
        "colab": {
          "base_uri": "https://localhost:8080/"
        },
        "id": "0HShKEqvjOch",
        "outputId": "046ca889-e748-40f2-bcd6-099d4e10fa5f"
      },
      "execution_count": null,
      "outputs": [
        {
          "output_type": "stream",
          "name": "stdout",
          "text": [
            "Enter hours:35\n",
            "Enter rate:2.75\n",
            "Pay 96.25\n"
          ]
        }
      ]
    },
    {
      "cell_type": "markdown",
      "source": [
        "**Ques 3.**\n",
        "Assume that we execute the following assignment statements:\n",
        "width = 17\n",
        "height = 12.0\n",
        "For each of the following expressions, write the value of the expression and the\n",
        "type (of the value of the expression).\n",
        "1. width//2\n",
        "2. width/2.0\n",
        "3. height/3\n",
        "4. 1 + 2 * 5\n",
        "Use the Python interpreter to check your answers.\n"
      ],
      "metadata": {
        "id": "F3_Z_cW_kjmr"
      }
    },
    {
      "cell_type": "code",
      "source": [
        "#width = 17\n",
        "#height =12.0\n",
        "#width//2\n",
        "#width/2.0\n",
        "#height/3\n",
        "1 + 2 * 5\n"
      ],
      "metadata": {
        "colab": {
          "base_uri": "https://localhost:8080/"
        },
        "id": "JDmos8ytk-kQ",
        "outputId": "5d4578c3-0a74-44af-a9f6-9568ae737cbc"
      },
      "execution_count": null,
      "outputs": [
        {
          "output_type": "execute_result",
          "data": {
            "text/plain": [
              "11"
            ]
          },
          "metadata": {},
          "execution_count": 9
        }
      ]
    },
    {
      "cell_type": "markdown",
      "source": [
        "**Que 4.** \n",
        "Write a program which prompts the user for a Celsius temperature, convert the temperature to Fahrenheit, and print out the\n",
        "converted temperature."
      ],
      "metadata": {
        "id": "BIc_FThdl6wE"
      }
    },
    {
      "cell_type": "code",
      "source": [
        "temperature = input (\"enter the celsius temperature:\")\n",
        "celsius = int(temperature)\n",
        "fahrenheit = (celsius * (9/5)) + 32\n",
        "print (\"fahrenheit temperature\" , fahrenheit)"
      ],
      "metadata": {
        "colab": {
          "base_uri": "https://localhost:8080/"
        },
        "id": "bLs4XFeBmJOM",
        "outputId": "1bda9599-44b9-4796-da6f-a708ef2521c7"
      },
      "execution_count": null,
      "outputs": [
        {
          "output_type": "stream",
          "name": "stdout",
          "text": [
            "enter the celsius temperature:30\n",
            "fahrenheit temperature 86.0\n"
          ]
        }
      ]
    }
  ]
}