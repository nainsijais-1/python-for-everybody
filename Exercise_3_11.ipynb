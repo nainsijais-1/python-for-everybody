{
  "nbformat": 4,
  "nbformat_minor": 0,
  "metadata": {
    "colab": {
      "name": "Exercise 3.11.ipynb",
      "provenance": [],
      "collapsed_sections": []
    },
    "kernelspec": {
      "name": "python3",
      "display_name": "Python 3"
    },
    "language_info": {
      "name": "python"
    }
  },
  "cells": [
    {
      "cell_type": "markdown",
      "source": [
        "**Conditional execution**"
      ],
      "metadata": {
        "id": "bgDUxpD7qN6B"
      }
    },
    {
      "cell_type": "markdown",
      "source": [
        "**Que 1.**\n",
        "Rewrite your pay computation to give the employee 1.5\n",
        "times the hourly rate for hours worked above 40 hours."
      ],
      "metadata": {
        "id": "27Yqe0IIqYyn"
      }
    },
    {
      "cell_type": "code",
      "source": [
        "hours = input(\"enter hours:\")\n",
        "rate = input(\"enter rate:\")\n",
        "h=int(hours)\n",
        "r=float(rate)\n",
        "if h > 40:\n",
        "  print (\"pay\" , ((40*r) + (h-40)*1.5*r))\n",
        "else :\n",
        "  print (\"pay\" , h*r)"
      ],
      "metadata": {
        "colab": {
          "base_uri": "https://localhost:8080/"
        },
        "id": "-MCv4XcYxn4R",
        "outputId": "3993a428-3f59-4cdc-ee2f-fa1a1db40636"
      },
      "execution_count": null,
      "outputs": [
        {
          "output_type": "stream",
          "name": "stdout",
          "text": [
            "enter hours:45\n",
            "enter rate:10\n",
            "pay 475.0\n"
          ]
        }
      ]
    },
    {
      "cell_type": "markdown",
      "source": [
        "**Que 2.** \n",
        "Rewrite your pay program using try and except so that your\n",
        "program handles non-numeric input gracefully by printing a message\n",
        "and exiting the program. The following shows two executions of the\n",
        "program:\n",
        "Enter Hours: 20\n",
        "Enter Rate: nine\n",
        "Error, please enter numeric input\n",
        "Enter Hours: forty\n",
        "Error, please enter numeric input\n"
      ],
      "metadata": {
        "id": "LQz_SDOvy2mU"
      }
    },
    {
      "cell_type": "code",
      "source": [
        "hours = input(\"enter hours:\")\n",
        "rate = input(\"enter rate:\")\n",
        "try:\n",
        "  h=int(hours)\n",
        "  r=float(rate)\n",
        "  if h > 40:\n",
        "    print (\"pay\" , ((40*r) + (h-40)*1.5*r))\n",
        "  else :\n",
        "    print (\"pay\" , h*r)\n",
        "except:\n",
        "  print(\"Error,please enter numeric input\")\n",
        "\n"
      ],
      "metadata": {
        "colab": {
          "base_uri": "https://localhost:8080/"
        },
        "id": "BrhP7zAIzOiu",
        "outputId": "f44049f6-8956-4cc0-a9c4-b0c8d330a642"
      },
      "execution_count": null,
      "outputs": [
        {
          "output_type": "stream",
          "name": "stdout",
          "text": [
            "enter hours:forty\n",
            "enter rate:5\n",
            "Error,please enter numeric input\n"
          ]
        }
      ]
    },
    {
      "cell_type": "markdown",
      "source": [
        "**Ques 3.**\n",
        "Write a program to prompt for a score between 0.0 and\n",
        "1.0. If the score is out of range, print an error message. If the score is\n",
        "between 0.0 and 1.0, print a grade using the following table:\n",
        "Score Grade\n",
        ">= 0.9 A\n",
        ">= 0.8 B\n",
        ">= 0.7 C\n",
        ">= 0.6 D\n",
        "< 0.6 F"
      ],
      "metadata": {
        "id": "AxG6Gdqn0I6E"
      }
    },
    {
      "cell_type": "code",
      "source": [
        "marks = input(\"enter score :\")\n",
        "try:\n",
        "  score = float(marks)\n",
        "  if(1 >score >0):\n",
        "    if (score >= 0.9):\n",
        "      print(\"A\")\n",
        "    elif (0.9 > score >= 0.8):\n",
        "      print(\"B\")\n",
        "    elif (0.8 > score >= 0.7):\n",
        "      print(\"C\")\n",
        "    elif (0.7 > score >= 0.6):\n",
        "      print(\"D\")\n",
        "    else:\n",
        "      print(\"E\")\n",
        "  else :\n",
        "    print(\"Bad Score\")\n",
        "except:\n",
        "  print(\"Please , Enter numeric value\")\n"
      ],
      "metadata": {
        "colab": {
          "base_uri": "https://localhost:8080/"
        },
        "id": "0zYSNXxIQr9Y",
        "outputId": "44616e42-b72d-420c-83e3-f5f95c6a6c25"
      },
      "execution_count": null,
      "outputs": [
        {
          "output_type": "stream",
          "name": "stdout",
          "text": [
            "enter score :7\n",
            "Bad Score\n"
          ]
        }
      ]
    }
  ]
}